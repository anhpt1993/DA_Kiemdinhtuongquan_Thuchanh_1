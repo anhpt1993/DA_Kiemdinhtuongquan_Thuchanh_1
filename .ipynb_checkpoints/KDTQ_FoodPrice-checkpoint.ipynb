{
 "cells": [
  {
   "cell_type": "markdown",
   "id": "a683731d-0653-4c54-86ed-9b2864b9ba3b",
   "metadata": {},
   "source": [
    "# 0. Khai báo các thư viện cần thiết"
   ]
  },
  {
   "cell_type": "code",
   "execution_count": 1,
   "id": "78e07693-400f-479a-892c-45caca7537a9",
   "metadata": {},
   "outputs": [],
   "source": [
    "import pandas as pd\n",
    "import matplotlib.pyplot as plt\n",
    "from scipy import stats"
   ]
  },
  {
   "cell_type": "markdown",
   "id": "de69e9fe-dc66-4320-a969-4097fa93e6fd",
   "metadata": {},
   "source": [
    "# 1. Đọc dữ liệu từ file CSV"
   ]
  },
  {
   "cell_type": "code",
   "execution_count": 2,
   "id": "201c2acf-6670-4350-80d4-10bc284f9b16",
   "metadata": {},
   "outputs": [
    {
     "data": {
      "text/html": [
       "<div>\n",
       "<style scoped>\n",
       "    .dataframe tbody tr th:only-of-type {\n",
       "        vertical-align: middle;\n",
       "    }\n",
       "\n",
       "    .dataframe tbody tr th {\n",
       "        vertical-align: top;\n",
       "    }\n",
       "\n",
       "    .dataframe thead th {\n",
       "        text-align: right;\n",
       "    }\n",
       "</style>\n",
       "<table border=\"1\" class=\"dataframe\">\n",
       "  <thead>\n",
       "    <tr style=\"text-align: right;\">\n",
       "      <th></th>\n",
       "      <th>Place</th>\n",
       "      <th>ProductId</th>\n",
       "      <th>ProductName</th>\n",
       "      <th>UmId</th>\n",
       "      <th>UmName</th>\n",
       "      <th>Month</th>\n",
       "      <th>Year</th>\n",
       "      <th>Price</th>\n",
       "    </tr>\n",
       "  </thead>\n",
       "  <tbody>\n",
       "    <tr>\n",
       "      <th>0</th>\n",
       "      <td>National Average</td>\n",
       "      <td>52</td>\n",
       "      <td>Rice - Retail</td>\n",
       "      <td>5</td>\n",
       "      <td>KG</td>\n",
       "      <td>5</td>\n",
       "      <td>2013</td>\n",
       "      <td>4.4920</td>\n",
       "    </tr>\n",
       "    <tr>\n",
       "      <th>1</th>\n",
       "      <td>National Average</td>\n",
       "      <td>52</td>\n",
       "      <td>Rice - Retail</td>\n",
       "      <td>5</td>\n",
       "      <td>KG</td>\n",
       "      <td>6</td>\n",
       "      <td>2013</td>\n",
       "      <td>4.5786</td>\n",
       "    </tr>\n",
       "    <tr>\n",
       "      <th>2</th>\n",
       "      <td>National Average</td>\n",
       "      <td>52</td>\n",
       "      <td>Rice - Retail</td>\n",
       "      <td>5</td>\n",
       "      <td>KG</td>\n",
       "      <td>11</td>\n",
       "      <td>2013</td>\n",
       "      <td>4.7865</td>\n",
       "    </tr>\n",
       "    <tr>\n",
       "      <th>3</th>\n",
       "      <td>National Average</td>\n",
       "      <td>52</td>\n",
       "      <td>Rice - Retail</td>\n",
       "      <td>5</td>\n",
       "      <td>KG</td>\n",
       "      <td>12</td>\n",
       "      <td>2013</td>\n",
       "      <td>5.1337</td>\n",
       "    </tr>\n",
       "    <tr>\n",
       "      <th>4</th>\n",
       "      <td>National Average</td>\n",
       "      <td>52</td>\n",
       "      <td>Rice - Retail</td>\n",
       "      <td>5</td>\n",
       "      <td>KG</td>\n",
       "      <td>1</td>\n",
       "      <td>2014</td>\n",
       "      <td>5.5099</td>\n",
       "    </tr>\n",
       "  </tbody>\n",
       "</table>\n",
       "</div>"
      ],
      "text/plain": [
       "              Place  ProductId    ProductName  UmId UmName  Month  Year  \\\n",
       "0  National Average         52  Rice - Retail     5     KG      5  2013   \n",
       "1  National Average         52  Rice - Retail     5     KG      6  2013   \n",
       "2  National Average         52  Rice - Retail     5     KG     11  2013   \n",
       "3  National Average         52  Rice - Retail     5     KG     12  2013   \n",
       "4  National Average         52  Rice - Retail     5     KG      1  2014   \n",
       "\n",
       "    Price  \n",
       "0  4.4920  \n",
       "1  4.5786  \n",
       "2  4.7865  \n",
       "3  5.1337  \n",
       "4  5.5099  "
      ]
     },
     "execution_count": 2,
     "metadata": {},
     "output_type": "execute_result"
    }
   ],
   "source": [
    "df = pd.read_csv(\"https://s3.ap-southeast-1.amazonaws.com/learn.codegym.vn/media/public/2021/12/31021019/FoodPrice_in_Turkey.csv\", encoding = \"ISO-8859-1\")\n",
    "df.head()"
   ]
  },
  {
   "cell_type": "code",
   "execution_count": 3,
   "id": "c9ca0345-5617-45c0-a3a4-960446f2a543",
   "metadata": {},
   "outputs": [
    {
     "name": "stdout",
     "output_type": "stream",
     "text": [
      "<class 'pandas.core.frame.DataFrame'>\n",
      "RangeIndex: 7381 entries, 0 to 7380\n",
      "Data columns (total 8 columns):\n",
      " #   Column       Non-Null Count  Dtype  \n",
      "---  ------       --------------  -----  \n",
      " 0   Place        7381 non-null   object \n",
      " 1   ProductId    7381 non-null   int64  \n",
      " 2   ProductName  7381 non-null   object \n",
      " 3   UmId         7381 non-null   int64  \n",
      " 4   UmName       7381 non-null   object \n",
      " 5   Month        7381 non-null   int64  \n",
      " 6   Year         7381 non-null   int64  \n",
      " 7   Price        7381 non-null   float64\n",
      "dtypes: float64(1), int64(4), object(3)\n",
      "memory usage: 461.4+ KB\n"
     ]
    }
   ],
   "source": [
    "df.info()"
   ]
  },
  {
   "cell_type": "markdown",
   "id": "3e6e681e-1278-4c9a-9e56-6dbe2eaad17f",
   "metadata": {},
   "source": [
    "# 2. Kiểm định: Giữa giá gạo ở National Average và thời gian có mối liên hệ với nhau hay không"
   ]
  },
  {
   "cell_type": "code",
   "execution_count": 4,
   "id": "bd0cc4db-46e4-4ed2-bd7c-31f5eee1ea04",
   "metadata": {},
   "outputs": [],
   "source": [
    "# Lọc ra dữ liệu chứa \"National Average\" & \"Rice - Retail\"\n",
    "df_rice = df.loc[(df.Place == \"National Average\") & (df.ProductName == \"Rice - Retail\")]"
   ]
  },
  {
   "cell_type": "markdown",
   "id": "1c9631a3-ea5e-41f4-8c1f-4a0fb7c7bb51",
   "metadata": {},
   "source": [
    "Tiến hành kiểm định:\n",
    "- Do thời gian nhận giá trị tăng dần nên có thể được coi là một biến định lượng\n",
    "- Thực hiện kiểm định pearson để tiến hành kiểm định mối liên hệ giữa hai biến thời gian và giá\n",
    "- Biên đổi thời gian về dạng định lượng như sau: lấy mốc 1/2013 là mốc 1 tương đối, 1 tháng sẽ được tính là một đơn vị thời gian"
   ]
  },
  {
   "cell_type": "code",
   "execution_count": 5,
   "id": "2546c158-3eaf-4e91-ba68-3227f3b6e86c",
   "metadata": {},
   "outputs": [
    {
     "name": "stderr",
     "output_type": "stream",
     "text": [
      "C:\\Users\\PHAM THE ANH\\AppData\\Local\\Programs\\Python\\Python310\\lib\\site-packages\\pandas\\util\\_decorators.py:311: SettingWithCopyWarning: \n",
      "A value is trying to be set on a copy of a slice from a DataFrame\n",
      "\n",
      "See the caveats in the documentation: https://pandas.pydata.org/pandas-docs/stable/user_guide/indexing.html#returning-a-view-versus-a-copy\n",
      "  return func(*args, **kwargs)\n"
     ]
    }
   ],
   "source": [
    "# Sắp xếp theo thời gian tăng dần\n",
    "df_rice.sort_values(by = [\"Year\", \"Month\"], inplace = True)"
   ]
  },
  {
   "cell_type": "code",
   "execution_count": 6,
   "id": "f0743ee5-f61e-4563-b71e-0514d1516339",
   "metadata": {},
   "outputs": [
    {
     "name": "stderr",
     "output_type": "stream",
     "text": [
      "C:\\Users\\PHAMTH~1\\AppData\\Local\\Temp/ipykernel_12792/1229797626.py:2: SettingWithCopyWarning: \n",
      "A value is trying to be set on a copy of a slice from a DataFrame.\n",
      "Try using .loc[row_indexer,col_indexer] = value instead\n",
      "\n",
      "See the caveats in the documentation: https://pandas.pydata.org/pandas-docs/stable/user_guide/indexing.html#returning-a-view-versus-a-copy\n",
      "  df_rice[\"Time\"] = (df_rice.Year - 2013) * 12 + df_rice.Month\n"
     ]
    }
   ],
   "source": [
    "# Thêm cột thời gian vào df_rice\n",
    "df_rice[\"Time\"] = (df_rice.Year - 2013) * 12 + df_rice.Month"
   ]
  },
  {
   "cell_type": "code",
   "execution_count": 7,
   "id": "8c9c00e9-221a-4c56-8e09-9083bcebdb1f",
   "metadata": {},
   "outputs": [
    {
     "name": "stdout",
     "output_type": "stream",
     "text": [
      "<class 'pandas.core.frame.DataFrame'>\n",
      "Int64Index: 66 entries, 0 to 65\n",
      "Data columns (total 9 columns):\n",
      " #   Column       Non-Null Count  Dtype  \n",
      "---  ------       --------------  -----  \n",
      " 0   Place        66 non-null     object \n",
      " 1   ProductId    66 non-null     int64  \n",
      " 2   ProductName  66 non-null     object \n",
      " 3   UmId         66 non-null     int64  \n",
      " 4   UmName       66 non-null     object \n",
      " 5   Month        66 non-null     int64  \n",
      " 6   Year         66 non-null     int64  \n",
      " 7   Price        66 non-null     float64\n",
      " 8   Time         66 non-null     int64  \n",
      "dtypes: float64(1), int64(5), object(3)\n",
      "memory usage: 5.2+ KB\n"
     ]
    }
   ],
   "source": [
    "df_rice.info()"
   ]
  },
  {
   "cell_type": "code",
   "execution_count": 8,
   "id": "2735319a-a59e-4136-8533-9923d175d452",
   "metadata": {},
   "outputs": [
    {
     "data": {
      "image/png": "[encoded data removed]",
      "text/plain": [
       "<Figure size 432x288 with 1 Axes>"
      ]
     },
     "metadata": {
      "needs_background": "light"
     },
     "output_type": "display_data"
    }
   ],
   "source": [
    "# Vẽ biểu đồ giữa thời gian theo tháng và giá gạo\n",
    "plt.plot(df_rice.Time, df_rice.Price, marker = \"*\")\n",
    "plt.show()"
   ]
  },
  {
   "cell_type": "markdown",
   "id": "ddf6ea0f-e5bd-433e-bf4c-b02fe864990d",
   "metadata": {},
   "source": [
    "- Giả thuyết không: Giữa thời gian và giá gạo không có mối tương quan\n",
    "- Giả thuyết đối: Giữa thời gian và giá dạo có mối tường quan"
   ]
  },
  {
   "cell_type": "code",
   "execution_count": 10,
   "id": "d5a0b112-3f67-475b-9f87-8d1e037b755e",
   "metadata": {},
   "outputs": [
    {
     "data": {
      "text/plain": [
       "(0.8836736355854854, 8.931326276853385e-23)"
      ]
     },
     "execution_count": 10,
     "metadata": {},
     "output_type": "execute_result"
    }
   ],
   "source": [
    "stats.pearsonr(df_rice.Time, df_rice.Price)"
   ]
  },
  {
   "cell_type": "markdown",
   "id": "068cef15-9170-4110-bc6f-c4a9e6585775",
   "metadata": {},
   "source": [
    "=> Kết luận: Do pvalue ~ 0 và hệ số tương quan bằng 0.88 nên giữa thời gian và giá gạo có mối tương quan chặt chẽ với nhau"
   ]
  }
 ],
 "metadata": {
  "kernelspec": {
   "display_name": "Python 3 (ipykernel)",
   "language": "python",
   "name": "python3"
  },
  "language_info": {
   "codemirror_mode": {
    "name": "ipython",
    "version": 3
   },
   "file_extension": ".py",
   "mimetype": "text/x-python",
   "name": "python",
   "nbconvert_exporter": "python",
   "pygments_lexer": "ipython3",
   "version": "3.10.1"
  }
 },
 "nbformat": 4,
 "nbformat_minor": 5
}
